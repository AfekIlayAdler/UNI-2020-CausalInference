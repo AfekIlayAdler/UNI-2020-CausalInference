{
 "cells": [
  {
   "cell_type": "code",
   "execution_count": 1,
   "metadata": {},
   "outputs": [],
   "source": [
    "import numpy as np\n",
    "import pandas as pd\n",
    "import matplotlib.pyplot as plt\n",
    "from collections import Counter\n",
    "%matplotlib inline\n",
    "from pathlib import Path"
   ]
  },
  {
   "cell_type": "code",
   "execution_count": 2,
   "metadata": {},
   "outputs": [],
   "source": [
    "DATA_PATH = Path('data/clean_data/')\n",
    "X = pd.read_csv(DATA_PATH/'X.csv')\n",
    "T = pd.read_csv(DATA_PATH/'T.csv')\n",
    "Y = pd.read_csv(DATA_PATH/'Y.csv')"
   ]
  },
  {
   "cell_type": "code",
   "execution_count": 3,
   "metadata": {},
   "outputs": [],
   "source": [
    "reguler_columns = ['pldel', 'birattnd', 'mager8', 'ormoth', 'mrace', 'meduc6', 'dmar',\n",
    "       'mpre5', 'adequacy', 'orfath', 'frace', 'birmon', 'gestat10', 'csex',\n",
    "       'anemia', 'cardiac', 'lung', 'diabetes', 'herpes', 'hydra', 'hemo',\n",
    "       'chyper', 'phyper', 'eclamp', 'incervix', 'pre4000', 'preterm', 'renal',\n",
    "       'rh', 'uterine', 'othermr', 'tobacco', 'alcohol', 'cigar6', 'drink5',\n",
    "       'crace', 'nprevistq', 'dfageq', 'feduc6', 'dlivord_min', 'dtotord_min',\n",
    "       'brstate_reg', 'stoccfipb_reg', 'mplbir_reg']\n",
    "\n",
    "treatment_columns = ['bord_0', 'bord_1']\n",
    "\n",
    "covar = {'adequacy': 'cat',\n",
    " 'alcohol': 'bin',\n",
    " 'anemia': 'bin',\n",
    " 'birattnd': 'cat',\n",
    " 'birmon': 'cyc',\n",
    " 'bord': 'bin',\n",
    " 'brstate': 'cat',\n",
    " 'brstate_reg': 'cat', \n",
    " 'cardiac': 'bin',\n",
    " 'chyper': 'bin',\n",
    " 'cigar6': 'cat',\n",
    " 'crace': 'cat',\n",
    " 'csex': 'bin',\n",
    " 'data_year': 'cat',\n",
    " 'dfageq': 'cat',\n",
    " 'diabetes': 'bin',\n",
    " 'dlivord_min': 'ord',\n",
    " 'dmar': 'bin',\n",
    " 'drink5': 'cat',\n",
    " 'dtotord_min': 'ord',\n",
    " 'eclamp': 'bin',\n",
    " 'feduc6': 'cat',\n",
    " 'frace': 'cat',\n",
    " 'gestat10': 'cat',\n",
    " 'hemo': 'bin',\n",
    " 'herpes': 'bin',\n",
    " 'hydra': 'bin',\n",
    " 'incervix': 'bin',\n",
    " 'infant_id': 'index do not use',\n",
    " 'lung': 'bin',\n",
    " 'mager8': 'cat',\n",
    " 'meduc6': 'cat',\n",
    " 'mplbir': 'cat',\n",
    " 'mpre5': 'cat',\n",
    " 'mrace': 'cat',\n",
    " 'nprevistq': 'cat',\n",
    " 'orfath': 'cat',\n",
    " 'ormoth': 'cat',\n",
    " 'othermr': 'bin',\n",
    " 'phyper': 'bin',\n",
    " 'pldel': 'cat',\n",
    " 'pre4000': 'bin',\n",
    " 'preterm': 'bin',\n",
    " 'renal': 'bin',\n",
    " 'rh': 'bin',\n",
    " 'stoccfipb': 'cat',\n",
    " 'stoccfipb_reg': 'cat',\n",
    " 'tobacco': 'bin',\n",
    " 'uterine': 'bin'}\n",
    "\n",
    "cat_cov = [i for i,v in covar.items() if v in ['cat','cyc']]\n",
    "bin_cov = [i for i,v in covar.items() if v == 'bin']"
   ]
  },
  {
   "cell_type": "markdown",
   "metadata": {},
   "source": [
    "# Preprocessing and imputing"
   ]
  },
  {
   "cell_type": "code",
   "execution_count": 4,
   "metadata": {},
   "outputs": [],
   "source": [
    "for cov in X.columns:\n",
    "    if cov in cat_cov:\n",
    "        X[cov] = X[cov].astype('category')\n",
    "    elif cov in bin_cov:\n",
    "        X[cov] = X[cov].astype('bool')\n",
    "        \n",
    "def born_order(row):\n",
    "    if np.isnan(row['bord_1']):\n",
    "        return (0.5>np.random.random())*1\n",
    "    elif row['bord_1'] == 1:\n",
    "        return 1\n",
    "    else:\n",
    "        return 0 \n",
    "\n",
    "heavier_tween_first = X[treatment_columns].apply(born_order, axis = 1)\n",
    "gestat10 = X['gestat10']\n",
    "X = X.drop(columns = treatment_columns)"
   ]
  },
  {
   "cell_type": "code",
   "execution_count": 5,
   "metadata": {},
   "outputs": [
    {
     "name": "stderr",
     "output_type": "stream",
     "text": [
      "C:\\Users\\afeki\\Anaconda3\\lib\\site-packages\\sklearn\\externals\\joblib\\__init__.py:15: DeprecationWarning: sklearn.externals.joblib is deprecated in 0.21 and will be removed in 0.23. Please import this functionality directly from joblib, which can be installed with: pip install joblib. If this warning is raised when loading pickled models, you may need to re-serialize those models with scikit-learn 0.21+.\n",
      "  warnings.warn(msg, category=DeprecationWarning)\n"
     ]
    }
   ],
   "source": [
    "from sklearn.pipeline import make_pipeline\n",
    "from ML_Framwork.main_pipeline import ObjectsColumnaAsType, PandasImputer, PandasStandardScaler,TypeSelector\n",
    "from ML_Framwork.pandas_feature_union import PandasFeatureUnion\n",
    "from ML_Framwork.pandas_OneHotEncoder import OneHotEncoder"
   ]
  },
  {
   "cell_type": "code",
   "execution_count": 6,
   "metadata": {},
   "outputs": [
    {
     "name": "stderr",
     "output_type": "stream",
     "text": [
      "C:\\Users\\afeki\\Desktop\\Code\\UNI-2020-CausalInference\\Project\\ML_Framwork\\main_pipeline.py:68: SettingWithCopyWarning: \n",
      "A value is trying to be set on a copy of a slice from a DataFrame.\n",
      "Try using .loc[row_indexer,col_indexer] = value instead\n",
      "\n",
      "See the caveats in the documentation: http://pandas.pydata.org/pandas-docs/stable/user_guide/indexing.html#returning-a-view-versus-a-copy\n",
      "  X[col] = X[col].fillna(self.missing_values_map[col])\n",
      "C:\\Users\\afeki\\Desktop\\Code\\UNI-2020-CausalInference\\Project\\ML_Framwork\\main_pipeline.py:68: SettingWithCopyWarning: \n",
      "A value is trying to be set on a copy of a slice from a DataFrame.\n",
      "Try using .loc[row_indexer,col_indexer] = value instead\n",
      "\n",
      "See the caveats in the documentation: http://pandas.pydata.org/pandas-docs/stable/user_guide/indexing.html#returning-a-view-versus-a-copy\n",
      "  X[col] = X[col].fillna(self.missing_values_map[col])\n",
      "C:\\Users\\afeki\\Anaconda3\\lib\\site-packages\\pandas\\core\\indexing.py:205: SettingWithCopyWarning: \n",
      "A value is trying to be set on a copy of a slice from a DataFrame\n",
      "\n",
      "See the caveats in the documentation: http://pandas.pydata.org/pandas-docs/stable/user_guide/indexing.html#returning-a-view-versus-a-copy\n",
      "  self._setitem_with_indexer(indexer, value)\n",
      "C:\\Users\\afeki\\Desktop\\Code\\UNI-2020-CausalInference\\Project\\ML_Framwork\\main_pipeline.py:85: SettingWithCopyWarning: \n",
      "A value is trying to be set on a copy of a slice from a DataFrame\n",
      "\n",
      "See the caveats in the documentation: http://pandas.pydata.org/pandas-docs/stable/user_guide/indexing.html#returning-a-view-versus-a-copy\n",
      "  X.loc[:, self.cols] = self.transformer.transform(X[self.cols])\n",
      "C:\\Users\\afeki\\Desktop\\Code\\UNI-2020-CausalInference\\Project\\ML_Framwork\\main_pipeline.py:68: SettingWithCopyWarning: \n",
      "A value is trying to be set on a copy of a slice from a DataFrame.\n",
      "Try using .loc[row_indexer,col_indexer] = value instead\n",
      "\n",
      "See the caveats in the documentation: http://pandas.pydata.org/pandas-docs/stable/user_guide/indexing.html#returning-a-view-versus-a-copy\n",
      "  X[col] = X[col].fillna(self.missing_values_map[col])\n"
     ]
    },
    {
     "data": {
      "text/html": [
       "<div>\n",
       "<style scoped>\n",
       "    .dataframe tbody tr th:only-of-type {\n",
       "        vertical-align: middle;\n",
       "    }\n",
       "\n",
       "    .dataframe tbody tr th {\n",
       "        vertical-align: top;\n",
       "    }\n",
       "\n",
       "    .dataframe thead th {\n",
       "        text-align: right;\n",
       "    }\n",
       "</style>\n",
       "<table border=\"1\" class=\"dataframe\">\n",
       "  <thead>\n",
       "    <tr style=\"text-align: right;\">\n",
       "      <th></th>\n",
       "      <th>dlivord_min</th>\n",
       "      <th>dtotord_min</th>\n",
       "      <th>mplbir_reg</th>\n",
       "      <th>pldel_1.0</th>\n",
       "      <th>pldel_2.0</th>\n",
       "      <th>pldel_3.0</th>\n",
       "      <th>pldel_4.0</th>\n",
       "      <th>pldel_5.0</th>\n",
       "      <th>birattnd_1.0</th>\n",
       "      <th>birattnd_2.0</th>\n",
       "      <th>...</th>\n",
       "      <th>eclamp</th>\n",
       "      <th>incervix</th>\n",
       "      <th>pre4000</th>\n",
       "      <th>preterm</th>\n",
       "      <th>renal</th>\n",
       "      <th>rh</th>\n",
       "      <th>uterine</th>\n",
       "      <th>othermr</th>\n",
       "      <th>tobacco</th>\n",
       "      <th>alcohol</th>\n",
       "    </tr>\n",
       "  </thead>\n",
       "  <tbody>\n",
       "    <tr>\n",
       "      <td>0</td>\n",
       "      <td>1.805730e-16</td>\n",
       "      <td>0.000000</td>\n",
       "      <td>-1.107242</td>\n",
       "      <td>1</td>\n",
       "      <td>0</td>\n",
       "      <td>0</td>\n",
       "      <td>0</td>\n",
       "      <td>0</td>\n",
       "      <td>1</td>\n",
       "      <td>0</td>\n",
       "      <td>...</td>\n",
       "      <td>False</td>\n",
       "      <td>False</td>\n",
       "      <td>False</td>\n",
       "      <td>False</td>\n",
       "      <td>False</td>\n",
       "      <td>False</td>\n",
       "      <td>False</td>\n",
       "      <td>False</td>\n",
       "      <td>False</td>\n",
       "      <td>False</td>\n",
       "    </tr>\n",
       "    <tr>\n",
       "      <td>1</td>\n",
       "      <td>8.281571e-01</td>\n",
       "      <td>0.386756</td>\n",
       "      <td>0.597821</td>\n",
       "      <td>1</td>\n",
       "      <td>0</td>\n",
       "      <td>0</td>\n",
       "      <td>0</td>\n",
       "      <td>0</td>\n",
       "      <td>1</td>\n",
       "      <td>0</td>\n",
       "      <td>...</td>\n",
       "      <td>False</td>\n",
       "      <td>False</td>\n",
       "      <td>False</td>\n",
       "      <td>False</td>\n",
       "      <td>False</td>\n",
       "      <td>False</td>\n",
       "      <td>False</td>\n",
       "      <td>True</td>\n",
       "      <td>False</td>\n",
       "      <td>False</td>\n",
       "    </tr>\n",
       "    <tr>\n",
       "      <td>2</td>\n",
       "      <td>1.805730e-16</td>\n",
       "      <td>0.000000</td>\n",
       "      <td>0.597821</td>\n",
       "      <td>1</td>\n",
       "      <td>0</td>\n",
       "      <td>0</td>\n",
       "      <td>0</td>\n",
       "      <td>0</td>\n",
       "      <td>1</td>\n",
       "      <td>0</td>\n",
       "      <td>...</td>\n",
       "      <td>False</td>\n",
       "      <td>False</td>\n",
       "      <td>False</td>\n",
       "      <td>False</td>\n",
       "      <td>False</td>\n",
       "      <td>False</td>\n",
       "      <td>False</td>\n",
       "      <td>False</td>\n",
       "      <td>False</td>\n",
       "      <td>False</td>\n",
       "    </tr>\n",
       "  </tbody>\n",
       "</table>\n",
       "<p>3 rows × 162 columns</p>\n",
       "</div>"
      ],
      "text/plain": [
       "    dlivord_min  dtotord_min  mplbir_reg  pldel_1.0  pldel_2.0  pldel_3.0  \\\n",
       "0  1.805730e-16     0.000000   -1.107242          1          0          0   \n",
       "1  8.281571e-01     0.386756    0.597821          1          0          0   \n",
       "2  1.805730e-16     0.000000    0.597821          1          0          0   \n",
       "\n",
       "   pldel_4.0  pldel_5.0  birattnd_1.0  birattnd_2.0  ...  eclamp  incervix  \\\n",
       "0          0          0             1             0  ...   False     False   \n",
       "1          0          0             1             0  ...   False     False   \n",
       "2          0          0             1             0  ...   False     False   \n",
       "\n",
       "   pre4000  preterm  renal     rh  uterine  othermr  tobacco  alcohol  \n",
       "0    False    False  False  False    False    False    False    False  \n",
       "1    False    False  False  False    False     True    False    False  \n",
       "2    False    False  False  False    False    False    False    False  \n",
       "\n",
       "[3 rows x 162 columns]"
      ]
     },
     "execution_count": 6,
     "metadata": {},
     "output_type": "execute_result"
    }
   ],
   "source": [
    "imputing_pipeline = make_pipeline(\n",
    "    PandasFeatureUnion(transformer_list=[\n",
    "        (\"numeric_features\", make_pipeline(\n",
    "            TypeSelector(np.number),\n",
    "            PandasImputer(strategy=\"mean\"),\n",
    "            PandasStandardScaler()\n",
    "        )),\n",
    "        (\"categorical_features\", make_pipeline(\n",
    "            TypeSelector(\"category\"),\n",
    "            PandasImputer(strategy=\"most_frequent\"),\n",
    "            OneHotEncoder()\n",
    "        )),\n",
    "        (\"boolean_features\", make_pipeline(\n",
    "            TypeSelector(\"bool\"),\n",
    "        ))\n",
    "]))\n",
    "\n",
    "imputing_pipeline.fit(X)\n",
    "X_norm = imputing_pipeline.transform(X)\n",
    "X_norm.head(3)"
   ]
  },
  {
   "cell_type": "code",
   "execution_count": 7,
   "metadata": {},
   "outputs": [
    {
     "name": "stderr",
     "output_type": "stream",
     "text": [
      "C:\\Users\\afeki\\Anaconda3\\lib\\site-packages\\ipykernel_launcher.py:2: FutureWarning: The signature of `Series.to_csv` was aligned to that of `DataFrame.to_csv`, and argument 'header' will change its default value from False to True: please pass an explicit value to suppress this warning.\n",
      "  \n",
      "C:\\Users\\afeki\\Anaconda3\\lib\\site-packages\\ipykernel_launcher.py:3: FutureWarning: The signature of `Series.to_csv` was aligned to that of `DataFrame.to_csv`, and argument 'header' will change its default value from False to True: please pass an explicit value to suppress this warning.\n",
      "  This is separate from the ipykernel package so we can avoid doing imports until\n"
     ]
    }
   ],
   "source": [
    "X_norm.to_csv('X_one_hot.csv', index = False)\n",
    "gestat10.to_csv('gestat10.csv',index = False)\n",
    "heavier_tween_first.to_csv('heavier_tween_born_first.csv',index = False)\n",
    "Y.to_csv('Y.csv',index = False)"
   ]
  },
  {
   "cell_type": "markdown",
   "metadata": {},
   "source": [
    "# Sampling distribuiton plot"
   ]
  },
  {
   "cell_type": "code",
   "execution_count": 8,
   "metadata": {},
   "outputs": [
    {
     "data": {
      "text/plain": [
       "<matplotlib.axes._subplots.AxesSubplot at 0x208c7e48708>"
      ]
     },
     "execution_count": 8,
     "metadata": {},
     "output_type": "execute_result"
    },
    {
     "data": {
      "image/png": "[encoded data removed]",
      "text/plain": [
       "<Figure size 432x288 with 1 Axes>"
      ]
     },
     "metadata": {
      "needs_background": "light"
     },
     "output_type": "display_data"
    }
   ],
   "source": [
    "import seaborn as sns\n",
    "from sklearn.preprocessing import MinMaxScaler\n",
    "result = X_norm@np.random.normal(0,0.1,X_norm.shape[1]) + np.random.normal(3,0.1)*(gestat10.astype('float')*0.1-0.1)\n",
    "sns.distplot((result - result.min()) / (result.max() - result.min()))"
   ]
  },
  {
   "cell_type": "code",
   "execution_count": 9,
   "metadata": {},
   "outputs": [
    {
     "data": {
      "text/plain": [
       "<matplotlib.axes._subplots.AxesSubplot at 0x208c8f9ea88>"
      ]
     },
     "execution_count": 9,
     "metadata": {},
     "output_type": "execute_result"
    },
    {
     "data": {
      "image/png": "[encoded data removed]",
      "text/plain": [
       "<Figure size 432x288 with 1 Axes>"
      ]
     },
     "metadata": {
      "needs_background": "light"
     },
     "output_type": "display_data"
    }
   ],
   "source": [
    "a = gestat10.to_frame()\n",
    "a['p'] = (result - result.min()) / (result.max() - result.min())\n",
    "sns.boxplot(x=\"gestat10\", y=\"p\", data=a)"
   ]
  },
  {
   "cell_type": "markdown",
   "metadata": {},
   "source": [
    "# Choosing the right tween"
   ]
  },
  {
   "cell_type": "code",
   "execution_count": 10,
   "metadata": {},
   "outputs": [],
   "source": [
    "T_simulated = (np.random.random(X_norm.shape[0]) < result)*1\n",
    "# \n",
    "Y_simulated = []\n",
    "birth_order = []\n",
    "for i,tween in enumerate(T_simulated):\n",
    "    Y_simulated.append(Y.values[i,tween])\n",
    "    if tween == 1: # if the hevier tween \n",
    "        is_hevier = heavier_tween_first[i]\n",
    "    else:\n",
    "        is_hevier = not heavier_tween_first[i]\n",
    "    birth_order.append(is_hevier*1)\n",
    "X_norm[\"birth_order\"] =  birth_order"
   ]
  },
  {
   "cell_type": "code",
   "execution_count": 11,
   "metadata": {},
   "outputs": [],
   "source": [
    "x = pd.read_csv(\"X_one_hot.csv\")\n",
    "gestat_simulated = pd.read_csv('gestat10.csv',header = None)[0]\n",
    "heavier_tween_first = pd.read_csv('heavier_tween_born_first.csv',header = None)[0]\n",
    "y = pd.read_csv(DATA_PATH/'Y.csv')\n",
    "w_0 = np.random.normal(0,0.1,x.shape[1])\n",
    "w_h = np.random.normal(3,0.1)\n",
    "\n",
    "\n",
    "def get_simulated_data(x,y,gestat10, w_0, w_h,heavier_tween_first):\n",
    "    p_heavier =  x@w_0 + w_h*(gestat10.astype('float')*0.1-0.1)\n",
    "    p_heavier_norm = (p_heavier - p_heavier.min()) / (p_heavier.max() - p_heavier.min())\n",
    "    t_s = (np.random.random(x.shape[0]) < result)*1 # t = 1 means heavier\n",
    "    y_s = []\n",
    "    birth_order = []\n",
    "    for i,tween in enumerate(t_s):\n",
    "        y_s.append(y.values[i,tween])\n",
    "        if tween == 1: # if the hevier tween \n",
    "            is_hevier = heavier_tween_first[i]\n",
    "        else:\n",
    "            is_hevier = not heavier_tween_first[i]\n",
    "        birth_order.append(is_hevier*1)\n",
    "    x[\"birth_order\"] =  birth_order\n",
    "    return x,y_s,t_s\n",
    "    \n",
    "    "
   ]
  },
  {
   "cell_type": "code",
   "execution_count": 12,
   "metadata": {},
   "outputs": [],
   "source": [
    "X_norm, Y_simulated ,T_simulated = get_simulated_data(x,y,gestat_simulated, w_0, w_h,heavier_tween_first)"
   ]
  }
 ],
 "metadata": {
  "kernelspec": {
   "display_name": "Python 3",
   "language": "python",
   "name": "python3"
  },
  "language_info": {
   "codemirror_mode": {
    "name": "ipython",
    "version": 3
   },
   "file_extension": ".py",
   "mimetype": "text/x-python",
   "name": "python",
   "nbconvert_exporter": "python",
   "pygments_lexer": "ipython3",
   "version": "3.7.4"
  }
 },
 "nbformat": 4,
 "nbformat_minor": 4
}
