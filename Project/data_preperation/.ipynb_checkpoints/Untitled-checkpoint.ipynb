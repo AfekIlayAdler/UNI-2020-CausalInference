{
 "cells": [
  {
   "cell_type": "code",
   "execution_count": 1,
   "metadata": {},
   "outputs": [],
   "source": [
    "import numpy as np\n",
    "import pandas as pd\n",
    "import matplotlib.pyplot as plt\n",
    "from collections import Counter\n",
    "%matplotlib inline\n",
    "from pathlib import Path"
   ]
  },
  {
   "cell_type": "code",
   "execution_count": 2,
   "metadata": {},
   "outputs": [],
   "source": [
    "def get_simulated_data(x,y,gestat10, w_0, w_h,heavier_tween_first):\n",
    "    p_heavier =  x@w_0 + w_h*(gestat10.astype('float')*0.1-0.1)\n",
    "    p_heavier_norm = (p_heavier - p_heavier.min()) / (p_heavier.max() - p_heavier.min())\n",
    "    t_s = (np.random.random(x.shape[0]) < p_heavier_norm)*1 # t = 1 means heavier\n",
    "    y_s = []\n",
    "    birth_order = []\n",
    "    for i,tween in enumerate(t_s):\n",
    "        y_s.append(y.values[i,tween])\n",
    "        if tween == 1: # if the hevier tween \n",
    "            is_hevier = heavier_tween_first[i]\n",
    "        else:\n",
    "            is_hevier = not heavier_tween_first[i]\n",
    "        birth_order.append(is_hevier*1)\n",
    "    x[\"birth_order\"] =  birth_order\n",
    "    return x,np.array(y_s),t_s"
   ]
  },
  {
   "cell_type": "code",
   "execution_count": 3,
   "metadata": {},
   "outputs": [],
   "source": [
    "x = pd.read_csv(\"X_one_hot.csv\")\n",
    "gestat_simulated = pd.read_csv('gestat10.csv',header = None)[0]\n",
    "heavier_tween_first = pd.read_csv('heavier_tween_born_first.csv',header = None)[0]\n",
    "Y = pd.read_csv('Y.csv')\n",
    "w_0 = np.random.normal(0,0.1,x.shape[1])\n",
    "w_h = np.random.normal(3,0.1)\n",
    "x, y ,t = get_simulated_data(x,Y,gestat_simulated, w_0, w_h,heavier_tween_first)"
   ]
  },
  {
   "cell_type": "code",
   "execution_count": 4,
   "metadata": {},
   "outputs": [
    {
     "name": "stdout",
     "output_type": "stream",
     "text": [
      "Running GridSearchCV for lr.\n",
      "Fitting 5 folds for each of 4 candidates, totalling 20 fits\n"
     ]
    },
    {
     "name": "stderr",
     "output_type": "stream",
     "text": [
      "[Parallel(n_jobs=8)]: Using backend LokyBackend with 8 concurrent workers.\n",
      "[Parallel(n_jobs=8)]: Done  20 out of  20 | elapsed:    5.9s finished\n"
     ]
    },
    {
     "name": "stdout",
     "output_type": "stream",
     "text": [
      "lr\n"
     ]
    }
   ],
   "source": [
    "from ML_Framwork.grid_search_helper import *\n",
    "from sklearn.linear_model import LogisticRegression\n",
    "\n",
    "models = {\n",
    "    'lr': LogisticRegression(),\n",
    "}\n",
    "\n",
    "params = {\n",
    "    'lr': [{'solver': ['lbfgs'],'C': [2]},\n",
    "           {'solver': ['lbfgs'],'C': [0.1,0.2,1]} \n",
    "    ]}\n",
    "\n",
    "helper = EstimatorSelectionHelper(models, params)\n",
    "best_model = helper.fit(x, t, scoring='roc_auc', n_jobs=8, cv =5)\n",
    "helper.score_summary(sort_by='max_score')\n",
    "propensity_score = best_model.predict_proba(x)[:,1]"
   ]
  },
  {
   "cell_type": "code",
   "execution_count": 5,
   "metadata": {},
   "outputs": [],
   "source": [
    "results = pd.DataFrame()\n",
    "results['ps'] = propensity_score\n",
    "results['y'] = y\n",
    "results['t'] = t\n",
    "results = pd.concat([results,Y], axis = 1)"
   ]
  },
  {
   "cell_type": "code",
   "execution_count": 6,
   "metadata": {},
   "outputs": [
    {
     "name": "stdout",
     "output_type": "stream",
     "text": [
      "true ate is -0.0233186626515327 and estimated ate is -0.02536504753461869\n"
     ]
    }
   ],
   "source": [
    "def calculate_ate_diff(res):\n",
    "    ate_hat = (res['y']*res['t']/res['ps'] -res['y']*(1-res['t'])/(1-res['ps'])).mean()\n",
    "    ate_true = (res['mort_1']-res['mort_0']).mean()\n",
    "    print(F\"true ate is {ate_true} and estimated ate is {ate_hat}\")\n",
    "    \n",
    "\n",
    "calculate_ate_diff(results)"
   ]
  }
 ],
 "metadata": {
  "kernelspec": {
   "display_name": "Python 3",
   "language": "python",
   "name": "python3"
  },
  "language_info": {
   "codemirror_mode": {
    "name": "ipython",
    "version": 3
   },
   "file_extension": ".py",
   "mimetype": "text/x-python",
   "name": "python",
   "nbconvert_exporter": "python",
   "pygments_lexer": "ipython3",
   "version": "3.7.4"
  }
 },
 "nbformat": 4,
 "nbformat_minor": 4
}
